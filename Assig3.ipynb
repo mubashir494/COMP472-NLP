{
 "cells": [
  {
   "cell_type": "code",
   "execution_count": 1,
   "id": "5af9a535",
   "metadata": {},
   "outputs": [],
   "source": [
    "# import Dependecies\n",
    "import pandas as pd\n",
    "import gensim.downloader as api\n",
    "from gensim.models import KeyedVectors"
   ]
  },
  {
   "cell_type": "code",
   "execution_count": 2,
   "id": "5b953c42",
   "metadata": {},
   "outputs": [],
   "source": [
    "# Load Synonym File\n",
    "synonym_file = pd.read_csv(\"synonym.csv\")"
   ]
  },
  {
   "cell_type": "code",
   "execution_count": 4,
   "id": "a7d30ffd",
   "metadata": {},
   "outputs": [],
   "source": [
    "# Intialize the Model Name\n",
    "model_name_1 = \"word2vec-google-news-300\""
   ]
  },
  {
   "cell_type": "code",
   "execution_count": 5,
   "id": "20537b9d",
   "metadata": {},
   "outputs": [],
   "source": [
    "# Load the Data model\n",
    "data_model_1 = api.load(model_name_1)"
   ]
  },
  {
   "cell_type": "code",
   "execution_count": 111,
   "id": "f4fcdfce",
   "metadata": {},
   "outputs": [],
   "source": [
    "# Helper function\n",
    "def detail_helper(data_model,file_name) :\n",
    "    correct_answer = 0\n",
    "    guess = 0\n",
    "    Found = False\n",
    "    with open(f'{file_name}.csv','w') as file:\n",
    "        file.write(\"question,answer,guess,label\\n\")\n",
    "        for iter,row in synonym_file.iterrows():\n",
    "            question_word = row['question']\n",
    "            answer_word = row['answer']\n",
    "            correct_answer = False\n",
    "            if (question_word in data_model and any(row[f'{i}'] in data_model for i in range(0,4))):\n",
    "                similarities = [(row[f'{i}'], data_model.similarity(question_word, row[f'{i}'])) for i in range(0,4) if row[f'{i}'] in data_model]\n",
    "                closest,_ = max(similarities, key=lambda x: x[1])\n",
    "                if (closest == answer_word):\n",
    "                    file.write(f'{question_word},{answer_word},{closest},correct\\n')\n",
    "                    correct_answer+= 1\n",
    "                    if(Found == False):\n",
    "                        guess += 1\n",
    "                else:\n",
    "                    file.write(f'{question_word},{answer_word},{closest},wrong\\n')\n",
    "                    if(Found == False):\n",
    "                        guess += 1      \n",
    "            else:\n",
    "                file.write(f'{question_word},{answer_word},,guess\\n')\n",
    "                Found = True\n",
    "    \n",
    "    with open('analysis.csv','a') as analysis:\n",
    "        analysis.write(f'{file_name},{len(data_model)},{correct_answer},{guess},{correct_answer/guess}\\n')\n",
    "     \n",
    "        "
   ]
  },
  {
   "cell_type": "code",
   "execution_count": 112,
   "id": "ea21378a",
   "metadata": {
    "scrolled": true
   },
   "outputs": [],
   "source": [
    "# Call function to create analysis files\n",
    "detail_helper(data_model_1,\"hello\")"
   ]
  },
  {
   "cell_type": "code",
   "execution_count": null,
   "id": "e9d4ea34",
   "metadata": {},
   "outputs": [],
   "source": [
    "# Task 2"
   ]
  }
 ],
 "metadata": {
  "kernelspec": {
   "display_name": "Python 3 (ipykernel)",
   "language": "python",
   "name": "python3"
  },
  "language_info": {
   "codemirror_mode": {
    "name": "ipython",
    "version": 3
   },
   "file_extension": ".py",
   "mimetype": "text/x-python",
   "name": "python",
   "nbconvert_exporter": "python",
   "pygments_lexer": "ipython3",
   "version": "3.11.4"
  }
 },
 "nbformat": 4,
 "nbformat_minor": 5
}
